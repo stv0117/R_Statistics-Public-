{
  "nbformat": 4,
  "nbformat_minor": 0,
  "metadata": {
    "colab": {
      "name": "R수업02-자료형.ipynb",
      "provenance": [],
      "authorship_tag": "ABX9TyOIFhLQtpA+FU00b/wk6pqL",
      "include_colab_link": true
    },
    "kernelspec": {
      "name": "ir",
      "display_name": "R"
    }
  },
  "cells": [
    {
      "cell_type": "markdown",
      "metadata": {
        "id": "view-in-github",
        "colab_type": "text"
      },
      "source": [
        "<a href=\"https://colab.research.google.com/github/stv0117/R_Statistics-Public-/blob/master/R%EC%88%98%EC%97%8502_%EC%9E%90%EB%A3%8C%ED%98%95.ipynb\" target=\"_parent\"><img src=\"https://colab.research.google.com/assets/colab-badge.svg\" alt=\"Open In Colab\"/></a>"
      ]
    },
    {
      "cell_type": "markdown",
      "metadata": {
        "id": "6M8pjpuZld7r",
        "colab_type": "text"
      },
      "source": [
        "#R의 연산자"
      ]
    },
    {
      "cell_type": "markdown",
      "metadata": {
        "id": "ybQpf-5dlmae",
        "colab_type": "text"
      },
      "source": [
        "##산술 연산자 : + - * / %"
      ]
    },
    {
      "cell_type": "code",
      "metadata": {
        "id": "0Cl1fk-Vlotg",
        "colab_type": "code",
        "colab": {
          "base_uri": "https://localhost:8080/",
          "height": 125
        },
        "outputId": "8ee54d96-2d0d-4de5-9e53-db2ca5e3e779"
      },
      "source": [
        "print(3 + 5 + 8)\n",
        "print(9 - 3)\n",
        "print(7 * 5)\n",
        "print(10 / 3)\n",
        "print(10 %% 3)  #remainder\n",
        "print(2 ^4)"
      ],
      "execution_count": 1,
      "outputs": [
        {
          "output_type": "stream",
          "text": [
            "[1] 16\n",
            "[1] 6\n",
            "[1] 35\n",
            "[1] 3.333333\n",
            "[1] 1\n",
            "[1] 16\n"
          ],
          "name": "stdout"
        }
      ]
    }
  ]
}