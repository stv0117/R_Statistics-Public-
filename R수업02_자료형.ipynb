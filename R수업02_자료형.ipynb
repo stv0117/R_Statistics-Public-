{
  "nbformat": 4,
  "nbformat_minor": 0,
  "metadata": {
    "colab": {
      "name": "R수업02-자료형.ipynb",
      "provenance": [],
      "collapsed_sections": [],
      "authorship_tag": "ABX9TyPsdDNSntQG0WroZlIvt8Ul",
      "include_colab_link": true
    },
    "kernelspec": {
      "name": "ir",
      "display_name": "R"
    }
  },
  "cells": [
    {
      "cell_type": "markdown",
      "metadata": {
        "id": "view-in-github",
        "colab_type": "text"
      },
      "source": [
        "<a href=\"https://colab.research.google.com/github/stv0117/R_Statistics-Public-/blob/master/R%EC%88%98%EC%97%8502_%EC%9E%90%EB%A3%8C%ED%98%95.ipynb\" target=\"_parent\"><img src=\"https://colab.research.google.com/assets/colab-badge.svg\" alt=\"Open In Colab\"/></a>"
      ]
    },
    {
      "cell_type": "markdown",
      "metadata": {
        "id": "6M8pjpuZld7r",
        "colab_type": "text"
      },
      "source": [
        "#R의 연산자"
      ]
    },
    {
      "cell_type": "markdown",
      "metadata": {
        "id": "ybQpf-5dlmae",
        "colab_type": "text"
      },
      "source": [
        "##산술 연산자 : + - * / %"
      ]
    },
    {
      "cell_type": "code",
      "metadata": {
        "id": "0Cl1fk-Vlotg",
        "colab_type": "code",
        "colab": {
          "base_uri": "https://localhost:8080/",
          "height": 125
        },
        "outputId": "0886d69c-3ac4-4048-c692-87677a665a30"
      },
      "source": [
        "print(3 + 5 + 8)\n",
        "print(9 - 3)\n",
        "print(7 * 5)\n",
        "print(10 / 3)\n",
        "print(10 %% 3)  #remainder\n",
        "print(2 ^4)"
      ],
      "execution_count": 131,
      "outputs": [
        {
          "output_type": "stream",
          "text": [
            "[1] 16\n",
            "[1] 6\n",
            "[1] 35\n",
            "[1] 3.333333\n",
            "[1] 1\n",
            "[1] 16\n"
          ],
          "name": "stdout"
        }
      ]
    },
    {
      "cell_type": "code",
      "metadata": {
        "id": "EvgoRwzNwygE",
        "colab_type": "code",
        "colab": {
          "base_uri": "https://localhost:8080/",
          "height": 89
        },
        "outputId": "682b59b8-45fc-488f-9b35-f6a8622ffbb6"
      },
      "source": [
        "# literal 기변 연산\n",
        "print ( 8 + 5 )\n",
        "print ( 8 - 5 )\n",
        "print ( 8 * 5 )\n",
        "print ( 8 / 5 )\n"
      ],
      "execution_count": 132,
      "outputs": [
        {
          "output_type": "stream",
          "text": [
            "[1] 13\n",
            "[1] 3\n",
            "[1] 40\n",
            "[1] 1.6\n"
          ],
          "name": "stdout"
        }
      ]
    },
    {
      "cell_type": "code",
      "metadata": {
        "id": "LCfIevtgw6KS",
        "colab_type": "code",
        "colab": {
          "base_uri": "https://localhost:8080/",
          "height": 89
        },
        "outputId": "c21a47f1-e710-4e25-bcbb-9a459b0459d1"
      },
      "source": [
        "# 변수 기반 연산 \n",
        "a <- 8\n",
        "b <- 5\n",
        "\n",
        "print ( a + b )\n",
        "print ( a - b )\n",
        "print ( a * b )\n",
        "print ( a / b )"
      ],
      "execution_count": 133,
      "outputs": [
        {
          "output_type": "stream",
          "text": [
            "[1] 13\n",
            "[1] 3\n",
            "[1] 40\n",
            "[1] 1.6\n"
          ],
          "name": "stdout"
        }
      ]
    },
    {
      "cell_type": "code",
      "metadata": {
        "id": "jF5n1XJuyFlO",
        "colab_type": "code",
        "colab": {
          "base_uri": "https://localhost:8080/",
          "height": 70
        },
        "outputId": "5e43622a-6f2d-464d-873e-62961ae60576"
      },
      "source": [
        "# 성적처리 (이름, 국어, 영어, 수학, 총점, 평균\n",
        "# sprintf('출력형식', 변수들....)\n",
        "# 출력형식 : %d(정수), %f(실수), %s(문자열 strip), \n",
        "name <- '혜교'\n",
        "kor <- 98\n",
        "eng <- 56\n",
        "mat <- 78\n",
        "tot <- kor + eng + mat\n",
        "avg <- tot/3\n",
        "print(tot)\n",
        "print(avg)\n",
        "sprintf('%s %d %d %d %d %.1f', name, kor, eng, mat, tot, avg)  #%.1f: .1은 몇자리 소수점 까지 "
      ],
      "execution_count": 134,
      "outputs": [
        {
          "output_type": "stream",
          "text": [
            "[1] 232\n",
            "[1] 77.33333\n"
          ],
          "name": "stdout"
        },
        {
          "output_type": "display_data",
          "data": {
            "text/plain": [
              "[1] \"혜교 98 56 78 232 77.3\""
            ],
            "text/latex": "'혜교 98 56 78 232 77.3'",
            "text/markdown": "'혜교 98 56 78 232 77.3'",
            "text/html": [
              "'혜교 98 56 78 232 77.3'"
            ]
          },
          "metadata": {
            "tags": []
          }
        }
      ]
    },
    {
      "cell_type": "markdown",
      "metadata": {
        "id": "YGw2F4-p11Jz",
        "colab_type": "text"
      },
      "source": [
        "# 벡터: 1차원 배열 "
      ]
    },
    {
      "cell_type": "markdown",
      "metadata": {
        "id": "kK8i-Off16XG",
        "colab_type": "text"
      },
      "source": [
        "## 변수명 <- c(값, 값, 값, 값, ...)"
      ]
    },
    {
      "cell_type": "code",
      "metadata": {
        "id": "b5m_sMmJ1_oe",
        "colab_type": "code",
        "colab": {
          "base_uri": "https://localhost:8080/",
          "height": 89
        },
        "outputId": "063381d0-488e-4f7e-deec-fa25ec46443d"
      },
      "source": [
        "names <- c('철수','혜련','재국','원식','대열')\n",
        "kors <- c(90,95,85,70,80)\n",
        "engs <- c(85,90,70,65,80)\n",
        "mats <- c(60,85,75,80,85)\n",
        "print(names)\n",
        "print(kors)\n",
        "print(engs)\n",
        "print(mats)"
      ],
      "execution_count": 135,
      "outputs": [
        {
          "output_type": "stream",
          "text": [
            "[1] \"철수\" \"혜련\" \"재국\" \"원식\" \"대열\"\n",
            "[1] 90 95 85 70 80\n",
            "[1] 85 90 70 65 80\n",
            "[1] 60 85 75 80 85\n"
          ],
          "name": "stdout"
        }
      ]
    },
    {
      "cell_type": "markdown",
      "metadata": {
        "id": "kUooN-2g3d3V",
        "colab_type": "text"
      },
      "source": [
        "##백터 연산"
      ]
    },
    {
      "cell_type": "code",
      "metadata": {
        "id": "vQUpmC9-3fzA",
        "colab_type": "code",
        "colab": {
          "base_uri": "https://localhost:8080/",
          "height": 172
        },
        "outputId": "618526db-c410-418e-d952-72d40d78da9c"
      },
      "source": [
        "tots <- kors + engs + mats\n",
        "avgs <- tots/3\n",
        "print(tots)\n",
        "print(avgs)\n",
        "\n",
        "#통계함수\n",
        "(mkor <- mean(kors)) #평균\n",
        "(mdkor <- median(kors)) # median\n",
        "(mxkor <- max(kors)) # maximum\n",
        "(mnkor <- min(kors)) # minimum\n",
        "(sdkor <- sd(kors)) # standard deviation\n",
        "(rgkor <- range(kors)) #range\n",
        "(nkor <- length(kors)) #데이터 갯수"
      ],
      "execution_count": 136,
      "outputs": [
        {
          "output_type": "stream",
          "text": [
            "[1] 235 270 230 215 245\n",
            "[1] 78.33333 90.00000 76.66667 71.66667 81.66667\n"
          ],
          "name": "stdout"
        },
        {
          "output_type": "display_data",
          "data": {
            "text/plain": [
              "[1] 84"
            ],
            "text/latex": "84",
            "text/markdown": "84",
            "text/html": [
              "84"
            ]
          },
          "metadata": {
            "tags": []
          }
        },
        {
          "output_type": "display_data",
          "data": {
            "text/plain": [
              "[1] 85"
            ],
            "text/latex": "85",
            "text/markdown": "85",
            "text/html": [
              "85"
            ]
          },
          "metadata": {
            "tags": []
          }
        },
        {
          "output_type": "display_data",
          "data": {
            "text/plain": [
              "[1] 95"
            ],
            "text/latex": "95",
            "text/markdown": "95",
            "text/html": [
              "95"
            ]
          },
          "metadata": {
            "tags": []
          }
        },
        {
          "output_type": "display_data",
          "data": {
            "text/plain": [
              "[1] 70"
            ],
            "text/latex": "70",
            "text/markdown": "70",
            "text/html": [
              "70"
            ]
          },
          "metadata": {
            "tags": []
          }
        },
        {
          "output_type": "display_data",
          "data": {
            "text/plain": [
              "[1] 9.617692"
            ],
            "text/latex": "9.61769203083567",
            "text/markdown": "9.61769203083567",
            "text/html": [
              "9.61769203083567"
            ]
          },
          "metadata": {
            "tags": []
          }
        },
        {
          "output_type": "display_data",
          "data": {
            "text/plain": [
              "[1] 70 95"
            ],
            "text/latex": "\\begin{enumerate*}\n\\item 70\n\\item 95\n\\end{enumerate*}\n",
            "text/markdown": "1. 70\n2. 95\n\n\n",
            "text/html": [
              "<style>\n",
              ".list-inline {list-style: none; margin:0; padding: 0}\n",
              ".list-inline>li {display: inline-block}\n",
              ".list-inline>li:not(:last-child)::after {content: \"\\00b7\"; padding: 0 .5ex}\n",
              "</style>\n",
              "<ol class=list-inline><li>70</li><li>95</li></ol>\n"
            ]
          },
          "metadata": {
            "tags": []
          }
        },
        {
          "output_type": "display_data",
          "data": {
            "text/plain": [
              "[1] 5"
            ],
            "text/latex": "5",
            "text/markdown": "5",
            "text/html": [
              "5"
            ]
          },
          "metadata": {
            "tags": []
          }
        }
      ]
    },
    {
      "cell_type": "markdown",
      "metadata": {
        "id": "ItZQeSxb9NDh",
        "colab_type": "text"
      },
      "source": [
        "## 백터에 논리연산 적용"
      ]
    },
    {
      "cell_type": "code",
      "metadata": {
        "id": "cGiUlbo29Pbn",
        "colab_type": "code",
        "colab": {
          "base_uri": "https://localhost:8080/",
          "height": 51
        },
        "outputId": "dbadb43c-814a-43aa-90bc-91d94f33123c"
      },
      "source": [
        "(lg1 <- mean(kors) < mean(engs))\n",
        "(lg2 <- mean(kors) > mean(engs) & mean(kors) > mean(mats))\n"
      ],
      "execution_count": 137,
      "outputs": [
        {
          "output_type": "display_data",
          "data": {
            "text/plain": [
              "[1] FALSE"
            ],
            "text/latex": "FALSE",
            "text/markdown": "FALSE",
            "text/html": [
              "FALSE"
            ]
          },
          "metadata": {
            "tags": []
          }
        },
        {
          "output_type": "display_data",
          "data": {
            "text/plain": [
              "[1] TRUE"
            ],
            "text/latex": "TRUE",
            "text/markdown": "TRUE",
            "text/html": [
              "TRUE"
            ]
          },
          "metadata": {
            "tags": []
          }
        }
      ]
    },
    {
      "cell_type": "code",
      "metadata": {
        "id": "23I4VCe5-SzI",
        "colab_type": "code",
        "colab": {
          "base_uri": "https://localhost:8080/",
          "height": 628
        },
        "outputId": "5faef60e-0a3a-4831-87e8-bcae45474fe9"
      },
      "source": [
        "#신생아 월별 몸무게 변화\n",
        "(age <- c(1,3,5,2,11,9,3,9,12,3))\n",
        "(weight <- c(4.4,5.3,7.2,5.2,8.5,7.3,6.0,10.4,10.2,6.1))\n",
        "\n",
        "summary(age)\n",
        "summary(weight)\n",
        "\n",
        "#기술통계\n",
        "(mean(weight))\n",
        "(median(weight))\n",
        "(sd(weight))\n",
        "(length(weight))\n",
        "(range(weight))\n",
        "\n",
        "#Visualization 시각화\n",
        "plot(age,weight)\n",
        "\n",
        "# 회귀분석\n",
        "plot(age,weight)\n",
        "m <- lm(weight ~ age)\n",
        "abline(m, col='red')\n"
      ],
      "execution_count": 150,
      "outputs": [
        {
          "output_type": "display_data",
          "data": {
            "text/plain": [
              " [1]  1  3  5  2 11  9  3  9 12  3"
            ],
            "text/latex": "\\begin{enumerate*}\n\\item 1\n\\item 3\n\\item 5\n\\item 2\n\\item 11\n\\item 9\n\\item 3\n\\item 9\n\\item 12\n\\item 3\n\\end{enumerate*}\n",
            "text/markdown": "1. 1\n2. 3\n3. 5\n4. 2\n5. 11\n6. 9\n7. 3\n8. 9\n9. 12\n10. 3\n\n\n",
            "text/html": [
              "<style>\n",
              ".list-inline {list-style: none; margin:0; padding: 0}\n",
              ".list-inline>li {display: inline-block}\n",
              ".list-inline>li:not(:last-child)::after {content: \"\\00b7\"; padding: 0 .5ex}\n",
              "</style>\n",
              "<ol class=list-inline><li>1</li><li>3</li><li>5</li><li>2</li><li>11</li><li>9</li><li>3</li><li>9</li><li>12</li><li>3</li></ol>\n"
            ]
          },
          "metadata": {
            "tags": []
          }
        },
        {
          "output_type": "display_data",
          "data": {
            "text/plain": [
              " [1]  4.4  5.3  7.2  5.2  8.5  7.3  6.0 10.4 10.2  6.1"
            ],
            "text/latex": "\\begin{enumerate*}\n\\item 4.4\n\\item 5.3\n\\item 7.2\n\\item 5.2\n\\item 8.5\n\\item 7.3\n\\item 6\n\\item 10.4\n\\item 10.2\n\\item 6.1\n\\end{enumerate*}\n",
            "text/markdown": "1. 4.4\n2. 5.3\n3. 7.2\n4. 5.2\n5. 8.5\n6. 7.3\n7. 6\n8. 10.4\n9. 10.2\n10. 6.1\n\n\n",
            "text/html": [
              "<style>\n",
              ".list-inline {list-style: none; margin:0; padding: 0}\n",
              ".list-inline>li {display: inline-block}\n",
              ".list-inline>li:not(:last-child)::after {content: \"\\00b7\"; padding: 0 .5ex}\n",
              "</style>\n",
              "<ol class=list-inline><li>4.4</li><li>5.3</li><li>7.2</li><li>5.2</li><li>8.5</li><li>7.3</li><li>6</li><li>10.4</li><li>10.2</li><li>6.1</li></ol>\n"
            ]
          },
          "metadata": {
            "tags": []
          }
        },
        {
          "output_type": "display_data",
          "data": {
            "text/plain": [
              "   Min. 1st Qu.  Median    Mean 3rd Qu.    Max. \n",
              "    1.0     3.0     4.0     5.8     9.0    12.0 "
            ]
          },
          "metadata": {
            "tags": []
          }
        },
        {
          "output_type": "display_data",
          "data": {
            "text/plain": [
              "   Min. 1st Qu.  Median    Mean 3rd Qu.    Max. \n",
              "  4.400   5.475   6.650   7.060   8.200  10.400 "
            ]
          },
          "metadata": {
            "tags": []
          }
        },
        {
          "output_type": "display_data",
          "data": {
            "text/plain": [
              "[1] 7.06"
            ],
            "text/latex": "7.06",
            "text/markdown": "7.06",
            "text/html": [
              "7.06"
            ]
          },
          "metadata": {
            "tags": []
          }
        },
        {
          "output_type": "display_data",
          "data": {
            "text/plain": [
              "[1] 6.65"
            ],
            "text/latex": "6.65",
            "text/markdown": "6.65",
            "text/html": [
              "6.65"
            ]
          },
          "metadata": {
            "tags": []
          }
        },
        {
          "output_type": "display_data",
          "data": {
            "text/plain": [
              "[1] 2.077498"
            ],
            "text/latex": "2.07749849578766",
            "text/markdown": "2.07749849578766",
            "text/html": [
              "2.07749849578766"
            ]
          },
          "metadata": {
            "tags": []
          }
        },
        {
          "output_type": "display_data",
          "data": {
            "text/plain": [
              "[1] 10"
            ],
            "text/latex": "10",
            "text/markdown": "10",
            "text/html": [
              "10"
            ]
          },
          "metadata": {
            "tags": []
          }
        },
        {
          "output_type": "display_data",
          "data": {
            "text/plain": [
              "[1]  4.4 10.4"
            ],
            "text/latex": "\\begin{enumerate*}\n\\item 4.4\n\\item 10.4\n\\end{enumerate*}\n",
            "text/markdown": "1. 4.4\n2. 10.4\n\n\n",
            "text/html": [
              "<style>\n",
              ".list-inline {list-style: none; margin:0; padding: 0}\n",
              ".list-inline>li {display: inline-block}\n",
              ".list-inline>li:not(:last-child)::after {content: \"\\00b7\"; padding: 0 .5ex}\n",
              "</style>\n",
              "<ol class=list-inline><li>4.4</li><li>10.4</li></ol>\n"
            ]
          },
          "metadata": {
            "tags": []
          }
        },
        {
          "output_type": "display_data",
          "data": {
            "image/png": "[encoded data removed]",
            "text/plain": [
              "plot without title"
            ]
          },
          "metadata": {
            "tags": [],
            "image/png": {
              "width": 420,
              "height": 420
            }
          }
        }
      ]
    },
    {
      "cell_type": "code",
      "metadata": {
        "id": "HOT_I2Hn-05Z",
        "colab_type": "code",
        "colab": {}
      },
      "source": [
        "#매니저 평점 분석\n",
        "manager <- c(1,2,3,4,5)\n",
        "date <- c('2014-10-24','2014-10-28','2014-10-01','2014-10-12','2014-05-14')\n",
        "country <- c('US','US','UK','UK','UK')\n",
        "gender <- c('M','F','F','M','F')\n",
        "mgr_age <- c(32,45,25,39,99)\n",
        "q1 <- c(5,3,3,3,2)\n",
        "q2 <- c(4,5,5,3,2)\n",
        "q3 <- c(5,2,5,4,1)\n",
        "q4 <- c(5,5,5,NA,2)\n",
        "q5 <- c(5,5,5,NA,1)\n"
      ],
      "execution_count": 154,
      "outputs": []
    },
    {
      "cell_type": "code",
      "metadata": {
        "id": "c5hDttzxGY9t",
        "colab_type": "code",
        "colab": {
          "base_uri": "https://localhost:8080/",
          "height": 102
        },
        "outputId": "57945f8c-ae6b-4df4-8dc4-c25436f0406f"
      },
      "source": [
        "#NA가 포함된 벡터에 통계함수 적용\n",
        "mean(q1)\n",
        "mean(q2)\n",
        "mean(q3)\n",
        "mean(q4, na.rm=T) #remove NA value\n",
        "mean(q5, na.rm=T) #결측치 제거 후 평균 계산"
      ],
      "execution_count": 140,
      "outputs": [
        {
          "output_type": "display_data",
          "data": {
            "text/plain": [
              "[1] 3.2"
            ],
            "text/latex": "3.2",
            "text/markdown": "3.2",
            "text/html": [
              "3.2"
            ]
          },
          "metadata": {
            "tags": []
          }
        },
        {
          "output_type": "display_data",
          "data": {
            "text/plain": [
              "[1] 3.8"
            ],
            "text/latex": "3.8",
            "text/markdown": "3.8",
            "text/html": [
              "3.8"
            ]
          },
          "metadata": {
            "tags": []
          }
        },
        {
          "output_type": "display_data",
          "data": {
            "text/plain": [
              "[1] 3.4"
            ],
            "text/latex": "3.4",
            "text/markdown": "3.4",
            "text/html": [
              "3.4"
            ]
          },
          "metadata": {
            "tags": []
          }
        },
        {
          "output_type": "display_data",
          "data": {
            "text/plain": [
              "[1] 4.25"
            ],
            "text/latex": "4.25",
            "text/markdown": "4.25",
            "text/html": [
              "4.25"
            ]
          },
          "metadata": {
            "tags": []
          }
        },
        {
          "output_type": "display_data",
          "data": {
            "text/plain": [
              "[1] 3.6"
            ],
            "text/latex": "3.6",
            "text/markdown": "3.6",
            "text/html": [
              "3.6"
            ]
          },
          "metadata": {
            "tags": []
          }
        }
      ]
    },
    {
      "cell_type": "code",
      "metadata": {
        "id": "rTBa0ZENGb7A",
        "colab_type": "code",
        "colab": {
          "base_uri": "https://localhost:8080/",
          "height": 437
        },
        "outputId": "0164a2da-b380-4859-e349-36a644f9d567"
      },
      "source": [
        "#매니저 성별 통계\n",
        "frq_g <- table(gender)\n",
        "barplot(frq_g)"
      ],
      "execution_count": 141,
      "outputs": [
        {
          "output_type": "display_data",
          "data": {
            "image/png": "[encoded data removed]",
            "text/plain": [
              "plot without title"
            ]
          },
          "metadata": {
            "tags": [],
            "image/png": {
              "width": 420,
              "height": 420
            }
          }
        }
      ]
    },
    {
      "cell_type": "code",
      "metadata": {
        "id": "karz4L2lGeWC",
        "colab_type": "code",
        "colab": {
          "base_uri": "https://localhost:8080/",
          "height": 437
        },
        "outputId": "68732201-fe23-495d-de1c-10cc95287475"
      },
      "source": [
        "#매니저 국적별 통계\n",
        "frq_c <- table(country)\n",
        "barplot(frq_c)\n"
      ],
      "execution_count": 142,
      "outputs": [
        {
          "output_type": "display_data",
          "data": {
            "image/png": "[encoded data removed]",
            "text/plain": [
              "plot without title"
            ]
          },
          "metadata": {
            "tags": [],
            "image/png": {
              "width": 420,
              "height": 420
            }
          }
        }
      ]
    },
    {
      "cell_type": "markdown",
      "metadata": {
        "id": "lFR6x35KLMTp",
        "colab_type": "text"
      },
      "source": [
        "# Data Frame  데이터 프레임"
      ]
    },
    {
      "cell_type": "code",
      "metadata": {
        "id": "zU5Bj0i3LPQK",
        "colab_type": "code",
        "colab": {}
      },
      "source": [
        "#서로 다른 유형의 백터들을 하나의 자료구조로 묶은 것 \n",
        "#2차원 테이블 형태로 저장 \n",
        "#data.frame(백터, 백터, 백터, 옵션)"
      ],
      "execution_count": 143,
      "outputs": []
    },
    {
      "cell_type": "code",
      "metadata": {
        "id": "MhdH6B4SLj8u",
        "colab_type": "code",
        "colab": {
          "base_uri": "https://localhost:8080/",
          "height": 269
        },
        "outputId": "67978edb-56af-4218-d556-c40e6ab10b41"
      },
      "source": [
        "baby <- data.frame( age, weight)\n",
        "print(baby)\n",
        "\n",
        "str(baby)"
      ],
      "execution_count": 144,
      "outputs": [
        {
          "output_type": "stream",
          "text": [
            "   age weight\n",
            "1    1    4.4\n",
            "2    3    5.3\n",
            "3    5    7.2\n",
            "4    2    5.2\n",
            "5   11    8.5\n",
            "6    9    7.3\n",
            "7    3    6.0\n",
            "8    9   10.4\n",
            "9   12   10.2\n",
            "10   3    6.1\n",
            "'data.frame':\t10 obs. of  2 variables:\n",
            " $ age   : num  1 3 5 2 11 9 3 9 12 3\n",
            " $ weight: num  4.4 5.3 7.2 5.2 8.5 7.3 6 10.4 10.2 6.1\n"
          ],
          "name": "stdout"
        }
      ]
    },
    {
      "cell_type": "code",
      "metadata": {
        "id": "Upf1_D5uMB2_",
        "colab_type": "code",
        "colab": {
          "base_uri": "https://localhost:8080/",
          "height": 521
        },
        "outputId": "092116f6-de5b-4246-e311-4285363ec8e5"
      },
      "source": [
        "# 매니져 평점 분석 data frame \n",
        "managers <- data.frame( manager, date, country, gender, mgr_age, q1, q2, q3, q4, q5 )\n",
        "print(managers)\n",
        "str(managers)\n",
        "\n",
        "# '입사일' 벡터가 범주형(factor)자료로 자동 설정 \n",
        "managers$date <- as.character(managers$date)\n",
        "str(managers)\n",
        "\n"
      ],
      "execution_count": 171,
      "outputs": [
        {
          "output_type": "stream",
          "text": [
            "  manager       date country gender mgr_age q1 q2 q3 q4 q5\n",
            "1       1 2014-10-24      US      M      32  5  4  5  5  5\n",
            "2       2 2014-10-28      US      F      45  3  5  2  5  5\n",
            "3       3 2014-10-01      UK      F      25  3  5  5  5  5\n",
            "4       4 2014-10-12      UK      M      39  3  3  4 NA NA\n",
            "5       5 2014-05-14      UK      F      99  2  2  1  2  1\n",
            "'data.frame':\t5 obs. of  10 variables:\n",
            " $ manager: num  1 2 3 4 5\n",
            " $ date   : Factor w/ 5 levels \"2014-05-14\",\"2014-10-01\",..: 4 5 2 3 1\n",
            " $ country: Factor w/ 2 levels \"UK\",\"US\": 2 2 1 1 1\n",
            " $ gender : Factor w/ 2 levels \"F\",\"M\": 2 1 1 2 1\n",
            " $ mgr_age: num  32 45 25 39 99\n",
            " $ q1     : num  5 3 3 3 2\n",
            " $ q2     : num  4 5 5 3 2\n",
            " $ q3     : num  5 2 5 4 1\n",
            " $ q4     : num  5 5 5 NA 2\n",
            " $ q5     : num  5 5 5 NA 1\n",
            "'data.frame':\t5 obs. of  10 variables:\n",
            " $ manager: num  1 2 3 4 5\n",
            " $ date   : chr  \"2014-10-24\" \"2014-10-28\" \"2014-10-01\" \"2014-10-12\" ...\n",
            " $ country: Factor w/ 2 levels \"UK\",\"US\": 2 2 1 1 1\n",
            " $ gender : Factor w/ 2 levels \"F\",\"M\": 2 1 1 2 1\n",
            " $ mgr_age: num  32 45 25 39 99\n",
            " $ q1     : num  5 3 3 3 2\n",
            " $ q2     : num  4 5 5 3 2\n",
            " $ q3     : num  5 2 5 4 1\n",
            " $ q4     : num  5 5 5 NA 2\n",
            " $ q5     : num  5 5 5 NA 1\n"
          ],
          "name": "stdout"
        }
      ]
    },
    {
      "cell_type": "code",
      "metadata": {
        "id": "PSsCCNrDQwPs",
        "colab_type": "code",
        "colab": {
          "base_uri": "https://localhost:8080/",
          "height": 215
        },
        "outputId": "921d6c4b-fc5e-4e47-aaf3-ec63e2d857f6"
      },
      "source": [
        "# 범주형 자료 자동 설정 금지 \n",
        "managers <- data.frame( manager, date, country, gender, mgr_age, q1, q2, q3, q4, q5, stringsAsFactors=F )\n",
        "str(managers)"
      ],
      "execution_count": 162,
      "outputs": [
        {
          "output_type": "stream",
          "text": [
            "'data.frame':\t5 obs. of  10 variables:\n",
            " $ manager: num  1 2 3 4 5\n",
            " $ date   : chr  \"2014-10-24\" \"2014-10-28\" \"2014-10-01\" \"2014-10-12\" ...\n",
            " $ country: chr  \"US\" \"US\" \"UK\" \"UK\" ...\n",
            " $ gender : chr  \"M\" \"F\" \"F\" \"M\" ...\n",
            " $ mgr_age: num  32 45 25 39 99\n",
            " $ q1     : num  5 3 3 3 2\n",
            " $ q2     : num  4 5 5 3 2\n",
            " $ q3     : num  5 2 5 4 1\n",
            " $ q4     : num  5 5 5 NA 2\n",
            " $ q5     : num  5 5 5 NA 1\n"
          ],
          "name": "stdout"
        }
      ]
    },
    {
      "cell_type": "code",
      "metadata": {
        "id": "GSeIKbdqPGGu",
        "colab_type": "code",
        "colab": {
          "base_uri": "https://localhost:8080/",
          "height": 215
        },
        "outputId": "9720d6de-a479-4f94-bdda-5e4c60e51b4f"
      },
      "source": [
        "# 문자형(character)을 범주(factor)형으로 전환 \n",
        "# change country and gender to factor (국적과 성별을 범주형으로 전환)\n",
        "\n",
        "# dataframe의 특정 변수는 dataframe$변수명\n",
        "managers$country <- as.factor(managers$country)\n",
        "managers$gender <- as.factor(managers$gender)\n",
        "str(managers)"
      ],
      "execution_count": 159,
      "outputs": [
        {
          "output_type": "stream",
          "text": [
            "'data.frame':\t5 obs. of  10 variables:\n",
            " $ manager: num  1 2 3 4 5\n",
            " $ date   : chr  \"2014-10-24\" \"2014-10-28\" \"2014-10-01\" \"2014-10-12\" ...\n",
            " $ country: Factor w/ 2 levels \"UK\",\"US\": 2 2 1 1 1\n",
            " $ gender : Factor w/ 2 levels \"F\",\"M\": 2 1 1 2 1\n",
            " $ mgr_age: num  32 45 25 39 99\n",
            " $ q1     : num  5 3 3 3 2\n",
            " $ q2     : num  4 5 5 3 2\n",
            " $ q3     : num  5 2 5 4 1\n",
            " $ q4     : num  5 5 5 NA 2\n",
            " $ q5     : num  5 5 5 NA 1\n"
          ],
          "name": "stdout"
        }
      ]
    },
    {
      "cell_type": "markdown",
      "metadata": {
        "id": "G3YNQAQZTArD",
        "colab_type": "text"
      },
      "source": [
        "#외부 데이터 파일 읽어오기 (csv)"
      ]
    },
    {
      "cell_type": "code",
      "metadata": {
        "id": "HdzXKx3aTD86",
        "colab_type": "code",
        "colab": {
          "base_uri": "https://localhost:8080/",
          "height": 233
        },
        "outputId": "6ab5a71b-178f-4722-ff90-370cb2227d8a"
      },
      "source": [
        "titanic <- read.csv('https://raw.githubusercontent.com/stv0117/R_Statistics-Public-/master/datasets/titanic.csv')\n",
        "str(titanic)\n"
      ],
      "execution_count": 167,
      "outputs": [
        {
          "output_type": "stream",
          "text": [
            "'data.frame':\t1310 obs. of  11 variables:\n",
            " $ pclass  : int  1 1 1 1 1 1 1 1 1 1 ...\n",
            " $ survived: int  1 1 0 0 0 1 1 0 1 0 ...\n",
            " $ name    : Factor w/ 1308 levels \"\",\"Abbing, Mr. Anthony\",..: 23 25 26 27 28 32 47 48 52 56 ...\n",
            " $ sex     : Factor w/ 3 levels \"\",\"female\",\"male\": 2 3 2 3 2 3 2 3 2 3 ...\n",
            " $ age     : num  29 0.917 2 30 25 ...\n",
            " $ sibsp   : int  0 1 1 1 1 0 1 0 2 0 ...\n",
            " $ parch   : int  0 2 2 2 2 0 0 0 0 0 ...\n",
            " $ ticket  : Factor w/ 930 levels \"\",\"110152\",\"110413\",..: 189 51 51 51 51 126 94 17 78 827 ...\n",
            " $ fare    : num  211 152 152 152 152 ...\n",
            " $ cabin   : Factor w/ 187 levels \"\",\"A10\",\"A11\",..: 45 81 81 81 81 151 147 17 63 1 ...\n",
            " $ embarked: Factor w/ 4 levels \"\",\"C\",\"Q\",\"S\": 4 4 4 4 4 4 4 4 4 2 ...\n"
          ],
          "name": "stdout"
        }
      ]
    },
    {
      "cell_type": "code",
      "metadata": {
        "id": "fcLHJ90wTQdJ",
        "colab_type": "code",
        "colab": {
          "base_uri": "https://localhost:8080/",
          "height": 449
        },
        "outputId": "79384b3e-8a28-47ed-b168-da83224042cd"
      },
      "source": [
        "summary(titanic)"
      ],
      "execution_count": 168,
      "outputs": [
        {
          "output_type": "display_data",
          "data": {
            "text/plain": [
              "     pclass         survived                                name     \n",
              " Min.   :1.000   Min.   :0.000   Connolly, Miss. Kate         :   2  \n",
              " 1st Qu.:2.000   1st Qu.:0.000   Kelly, Mr. James             :   2  \n",
              " Median :3.000   Median :0.000                                :   1  \n",
              " Mean   :2.295   Mean   :0.382   Abbing, Mr. Anthony          :   1  \n",
              " 3rd Qu.:3.000   3rd Qu.:1.000   Abbott, Master. Eugene Joseph:   1  \n",
              " Max.   :3.000   Max.   :1.000   Abbott, Mr. Rossmore Edward  :   1  \n",
              " NA's   :1       NA's   :1       (Other)                      :1302  \n",
              "     sex           age              sibsp            parch      \n",
              "       :  1   Min.   : 0.1667   Min.   :0.0000   Min.   :0.000  \n",
              " female:466   1st Qu.:21.0000   1st Qu.:0.0000   1st Qu.:0.000  \n",
              " male  :843   Median :28.0000   Median :0.0000   Median :0.000  \n",
              "              Mean   :29.8811   Mean   :0.4989   Mean   :0.385  \n",
              "              3rd Qu.:39.0000   3rd Qu.:1.0000   3rd Qu.:0.000  \n",
              "              Max.   :80.0000   Max.   :8.0000   Max.   :9.000  \n",
              "              NA's   :264       NA's   :1        NA's   :1      \n",
              "      ticket          fare                     cabin      embarked\n",
              " CA. 2343:  11   Min.   :  0.000                  :1015    :  3   \n",
              " 1601    :   8   1st Qu.:  7.896   C23 C25 C27    :   6   C:270   \n",
              " CA 2144 :   8   Median : 14.454   B57 B59 B63 B66:   5   Q:123   \n",
              " 3101295 :   7   Mean   : 33.295   G6             :   5   S:914   \n",
              " 347077  :   7   3rd Qu.: 31.275   B96 B98        :   4           \n",
              " 347082  :   7   Max.   :512.329   C22 C26        :   4           \n",
              " (Other) :1262   NA's   :2         (Other)        : 271           "
            ]
          },
          "metadata": {
            "tags": []
          }
        }
      ]
    },
    {
      "cell_type": "code",
      "metadata": {
        "id": "KXVxfdeETQ6W",
        "colab_type": "code",
        "colab": {
          "base_uri": "https://localhost:8080/",
          "height": 34
        },
        "outputId": "034bf572-77f9-4f8a-b6e7-d9a739d23267"
      },
      "source": [
        "colSums(is.na(titanic)) #결측치가 몇개 있는지 알아보는 것. Find NA values. "
      ],
      "execution_count": 169,
      "outputs": [
        {
          "output_type": "display_data",
          "data": {
            "text/plain": [
              "  pclass survived     name      sex      age    sibsp    parch   ticket \n",
              "       1        1        0        0      264        1        1        0 \n",
              "    fare    cabin embarked \n",
              "       2        0        0 "
            ],
            "text/latex": "\\begin{description*}\n\\item[pclass] 1\n\\item[survived] 1\n\\item[name] 0\n\\item[sex] 0\n\\item[age] 264\n\\item[sibsp] 1\n\\item[parch] 1\n\\item[ticket] 0\n\\item[fare] 2\n\\item[cabin] 0\n\\item[embarked] 0\n\\end{description*}\n",
            "text/markdown": "pclass\n:   1survived\n:   1name\n:   0sex\n:   0age\n:   264sibsp\n:   1parch\n:   1ticket\n:   0fare\n:   2cabin\n:   0embarked\n:   0\n\n",
            "text/html": [
              "<style>\n",
              ".dl-inline {width: auto; margin:0; padding: 0}\n",
              ".dl-inline>dt, .dl-inline>dd {float: none; width: auto; display: inline-block}\n",
              ".dl-inline>dt::after {content: \":\\0020\"; padding-right: .5ex}\n",
              ".dl-inline>dt:not(:first-of-type) {padding-left: .5ex}\n",
              "</style><dl class=dl-inline><dt>pclass</dt><dd>1</dd><dt>survived</dt><dd>1</dd><dt>name</dt><dd>0</dd><dt>sex</dt><dd>0</dd><dt>age</dt><dd>264</dd><dt>sibsp</dt><dd>1</dd><dt>parch</dt><dd>1</dd><dt>ticket</dt><dd>0</dd><dt>fare</dt><dd>2</dd><dt>cabin</dt><dd>0</dd><dt>embarked</dt><dd>0</dd></dl>\n"
            ]
          },
          "metadata": {
            "tags": []
          }
        }
      ]
    }
  ]
}